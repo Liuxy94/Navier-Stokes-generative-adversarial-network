{
 "cells": [
  {
   "cell_type": "code",
   "execution_count": 12,
   "id": "fdb2bb09",
   "metadata": {},
   "outputs": [],
   "source": [
    "import torch,copy,argparse,csv\n",
    "from torch.autograd import Variable\n",
    "import matplotlib.pyplot as plt\n",
    "from sklearn.model_selection import train_test_split\n",
    "import numpy as np\n",
    "import pandas as pd\n",
    "import torch.nn as nn\n",
    "import torch.nn.functional as F\n",
    "import torch.utils.data as Data"
   ]
  },
  {
   "cell_type": "markdown",
   "id": "4c9ee220",
   "metadata": {},
   "source": [
    "## Load data"
   ]
  },
  {
   "cell_type": "code",
   "execution_count": 13,
   "id": "09df5500",
   "metadata": {},
   "outputs": [],
   "source": [
    "velocity_coeff = np.genfromtxt('./data/POD_coeffs_3900_new_grid_221_42_Velocity_1.csv', delimiter=',')\n",
    "pressure_coeff = np.genfromtxt('./data/POD_coeffs_3900_new_grid_221_42_Pressure_1.csv', delimiter=',')"
   ]
  },
  {
   "cell_type": "code",
   "execution_count": 14,
   "id": "0f442139",
   "metadata": {},
   "outputs": [],
   "source": [
    "coeff_all = torch.from_numpy(np.append(velocity_coeff,pressure_coeff,axis=0)).type(torch.FloatTensor)\n",
    "data = copy.deepcopy(coeff_all[:,:-1].T)\n",
    "label = copy.deepcopy(coeff_all[:,1:].T)"
   ]
  },
  {
   "cell_type": "code",
   "execution_count": 15,
   "id": "f1e2f6b7",
   "metadata": {},
   "outputs": [],
   "source": [
    "x_train, x_test, y_train, y_test = train_test_split(data,label, test_size=0.3 , random_state=2)"
   ]
  },
  {
   "cell_type": "markdown",
   "id": "1bb3d013",
   "metadata": {},
   "source": [
    "## Compute residuals"
   ]
  },
  {
   "cell_type": "code",
   "execution_count": 16,
   "id": "dde356cf",
   "metadata": {},
   "outputs": [],
   "source": [
    "basis_v = torch.from_numpy(np.genfromtxt('./data/Velocity_basis.csv', delimiter=',')).type(torch.FloatTensor)\n",
    "basis_p = torch.from_numpy(np.genfromtxt('./data/Pressure_basis.csv', delimiter=',')).type(torch.FloatTensor)"
   ]
  },
  {
   "cell_type": "code",
   "execution_count": 17,
   "id": "bdfdb2c5",
   "metadata": {},
   "outputs": [],
   "source": [
    "def backward_p(coeff_p, basis_p):\n",
    "    length, number = coeff_p.shape\n",
    "    nx = 221\n",
    "    ny = 42\n",
    "    grid_p = torch.matmul(basis_p, coeff_p)\n",
    "    return grid_p.reshape(nx,ny,number)"
   ]
  },
  {
   "cell_type": "code",
   "execution_count": 18,
   "id": "e47773e9",
   "metadata": {},
   "outputs": [],
   "source": [
    "def backward_v(coeff_v, basis_v):\n",
    "    length, number = coeff_v.shape\n",
    "    nx = 221\n",
    "    ny = 42\n",
    "    grid_v = torch.matmul(basis_v, coeff_v)\n",
    "    grid_v1 = grid_v[0:nx*ny].reshape(nx,ny,number)\n",
    "    grid_v2 = grid_v[nx*ny:].reshape(nx,ny,number)\n",
    "    return grid_v1, grid_v2"
   ]
  },
  {
   "cell_type": "code",
   "execution_count": 19,
   "id": "52f9839c",
   "metadata": {},
   "outputs": [],
   "source": [
    "def backward(coeff, basis_v, basis_p):\n",
    "    nPOD = 10\n",
    "    coeff_v = coeff[:nPOD,:]\n",
    "    coeff_p = coeff[nPOD:,:]\n",
    "    v1, v2 = backward_v(coeff_v, basis_v)\n",
    "    p = backward_p(coeff_p, basis_p)\n",
    "    return v1, v2, p"
   ]
  },
  {
   "cell_type": "code",
   "execution_count": 20,
   "id": "8fc63b0d",
   "metadata": {},
   "outputs": [],
   "source": [
    "def compute_resids(coeff, coeff_pred, basis_v, basis_p):\n",
    "    u1_o1d, u2_o1d, p = backward(coeff, basis_v, basis_p)\n",
    "    u1, u2, p = backward(coeff_pred, basis_v, basis_p)\n",
    "    nx, ny = 221,42\n",
    "    dx, dy = 0.01, 0.01\n",
    "    dt = 1.\n",
    "    sigma = 0.\n",
    "    rho = 1.\n",
    "    mu = 1./300\n",
    "    # first order term of u1\n",
    "    u1x = (u1[2:,1:-1] - u1[:-2,1:-1])/(2.0*dx)\n",
    "    u1y = (u1[1:-1,2:] - u1[1:-1,:-2])/(2.0*dy)\n",
    "#     u1t = (u1_new[1:-1, 1:-1] - u1 [1:-1, 1:-1] )/dt \n",
    "    u1t = (u1[1:-1, 1:-1] - u1_o1d[1:-1, 1:-1])/dt \n",
    "    # second order term of u1 \n",
    "    u1xx = (u1[2:,1:-1] - 2. *u1[1:-1, 1:-1] + u1[0: -2, 1:-1])/(dx**2) \n",
    "    u1yy = (u1[1:-1,2:] - 2. *u1[1:-1, 1:-1] + u1[1:-1, 0:-2])/(dy**2) \n",
    "    # first order term of u2\n",
    "    u2x = (u2[2:,1:-1] - u2[0:-2, 1:-1])/(2.0*dx) \n",
    "    u2y = (u2[1:-1, 2: ] - u2 [1:-1, 0:-2])/(2.0*dy) \n",
    "#     u2t = (u2_new[1:-1, 1:-1] - u2 [1:-1, 1:-1] )/dt \n",
    "    u2t = (u2[1:-1, 1:-1] - u2_o1d[1:-1, 1:-1] )/dt \n",
    "    # second order term of u2 \n",
    "    u2xx = (u2[2:,1:-1] - 2.*u2[1:-1, 1:-1] + u2[0:-2, 1:-1])/(dx**2) \n",
    "    u2yy = (u2[1:-1,2:] - 2.*u2[1:-1, 1:-1] + u2[1:-1, 0:-2])/(dy**2) \n",
    "    # first order of p \n",
    "    px = (p[2:,1:-1] - p[0:-2,1:-1])/(2.* dx)\n",
    "    py = (p[1:-1,2:] - p[1:-1,0:-2])/(2.* dy)\n",
    "    r_cty = u1x + u2y \n",
    "    r_u1 = rho*u1t + sigma*u1 [1:-1, 1:-1]+ rho* (u1 [1:-1, 1:-1] *u1x+u2 [1:-1, 1:-1] *u1y) - mu* (u1xx+u1yy) + px\n",
    "    r_u2 = rho*u2t + sigma*u2 [1: -1, 1: -1]+ rho* (u1 [1:-1, 1:-1] *u2x+u2 [1:-1, 1:-1] *u2y) - mu* (u2xx+u2yy) + py\n",
    "    return r_cty, r_u1, r_u2"
   ]
  },
  {
   "cell_type": "markdown",
   "id": "20171daf",
   "metadata": {},
   "source": [
    "## Build model"
   ]
  },
  {
   "cell_type": "code",
   "execution_count": 21,
   "id": "a1d59bcb",
   "metadata": {},
   "outputs": [],
   "source": [
    "def cal_score(model,data,label):\n",
    "    y_pred = torch.max(F.softmax(model(data),dim=1), 1)[1].numpy()\n",
    "    accuracy = (y_pred==label).sum()/len(label)\n",
    "    return accuracy"
   ]
  },
  {
   "cell_type": "code",
   "execution_count": 22,
   "id": "dae7ea0b",
   "metadata": {},
   "outputs": [],
   "source": [
    "def valid(model,x_test,y_test,criterion):\n",
    "        model.eval()\n",
    "        with torch.no_grad():   \n",
    "            y_pred = model(x_test)\n",
    "            loss = criterion(y_pred, y_test)\n",
    "            loss_val.append(loss.item())\n",
    "            print('val MSE loss:',loss.item())"
   ]
  },
  {
   "cell_type": "code",
   "execution_count": 23,
   "id": "54555956",
   "metadata": {},
   "outputs": [],
   "source": [
    "model=torch.nn.Sequential(\n",
    "        torch.nn.Linear(20,40),   \n",
    "        torch.nn.ReLU(),   \n",
    "        torch.nn.Linear(40,30), \n",
    "        torch.nn.ReLU(),   \n",
    "        torch.nn.Linear(30,20),   \n",
    "    )"
   ]
  },
  {
   "cell_type": "code",
   "execution_count": 24,
   "id": "d9073166",
   "metadata": {},
   "outputs": [],
   "source": [
    "loss_train = []\n",
    "loss_val = []"
   ]
  },
  {
   "cell_type": "markdown",
   "id": "aa147d7f",
   "metadata": {},
   "source": [
    "## Training"
   ]
  },
  {
   "cell_type": "code",
   "execution_count": 25,
   "id": "7c86370b",
   "metadata": {},
   "outputs": [],
   "source": [
    "dataset_train = Data.TensorDataset(x_train , y_train)\n",
    "loader = Data.DataLoader(\n",
    "    dataset = dataset_train,\n",
    "    batch_size = 60,\n",
    "    shuffle=True,\n",
    "    num_workers = 8\n",
    ")\n",
    "epochs = 2\n",
    "lambda_res = 0.01"
   ]
  },
  {
   "cell_type": "code",
   "execution_count": 26,
   "id": "7b100f1a",
   "metadata": {},
   "outputs": [],
   "source": [
    "optimizer = torch.optim.Adam(model.parameters(), lr=3e-4)\n",
    "loss_fn = nn.MSELoss()"
   ]
  },
  {
   "cell_type": "code",
   "execution_count": 27,
   "id": "47f16616",
   "metadata": {
    "scrolled": false
   },
   "outputs": [
    {
     "name": "stdout",
     "output_type": "stream",
     "text": [
      "epoch: 0\n",
      "train loss: 103.72413635253906\n",
      "val MSE loss: 50.252723693847656\n",
      "epoch: 1\n",
      "train loss: 97.42295837402344\n",
      "val MSE loss: 47.10666275024414\n"
     ]
    }
   ],
   "source": [
    "for epoch in range(epochs):\n",
    "    print('epoch:',epoch)\n",
    "    for step , (batch_x,batch_y) in enumerate(loader):\n",
    "        batch_y_pred = model(batch_x)\n",
    "        r_cty_pred, r_u1_pred, r_u2_pred = compute_resids(batch_x.T, batch_y_pred.T, basis_v, basis_p)\n",
    "        r_cty, r_u1, r_u2 = compute_resids(batch_x.T, batch_y.T, basis_v, basis_p)\n",
    "        loss_res = torch.norm(r_cty_pred-r_cty)+torch.norm(r_u1_pred-r_u1)+torch.norm(r_u2_pred-r_u2)\n",
    "        loss = loss_fn(batch_y_pred, batch_y) + lambda_res*loss_res\n",
    "        optimizer.zero_grad()\n",
    "        loss.backward()\n",
    "        optimizer.step()\n",
    "    loss_train.append(loss.item())\n",
    "    print('train loss:', loss.detach().item())\n",
    "    valid(model,x_test,y_test,criterion=loss_fn)"
   ]
  },
  {
   "cell_type": "code",
   "execution_count": 17,
   "id": "ce2b730f",
   "metadata": {},
   "outputs": [
    {
     "name": "stdout",
     "output_type": "stream",
     "text": [
      "MSE loss for val set： 10.134639739990234\n"
     ]
    },
    {
     "data": {
      "image/png": "[encoded data removed]",
      "text/plain": [
       "<Figure size 640x480 with 1 Axes>"
      ]
     },
     "metadata": {},
     "output_type": "display_data"
    }
   ],
   "source": [
    "x = [i for i in range(epochs)]\n",
    "plt.plot(x,loss_train, label='train')\n",
    "plt.plot(x,loss_val, label='val')\n",
    "plt.title('MLP with residuals')\n",
    "plt.legend()\n",
    "plt.savefig(fname=\"results/mlp.png\")\n",
    "np.save('results/mlp.npy',loss_train)  \n",
    "print('MSE loss for val set：',loss_val[-1])\n",
    "plt.show()"
   ]
  },
  {
   "cell_type": "code",
   "execution_count": 31,
   "id": "a608e94e",
   "metadata": {},
   "outputs": [],
   "source": [
    "coeff_pred = model(data)\n",
    "np.savetxt('./results/prediction_res.csv', coeff_pred.detach().numpy(), delimiter=',')"
   ]
  },
  {
   "cell_type": "code",
   "execution_count": 29,
   "id": "18dffa73",
   "metadata": {},
   "outputs": [
    {
     "data": {
      "text/plain": [
       "torch.Size([1999, 20])"
      ]
     },
     "execution_count": 29,
     "metadata": {},
     "output_type": "execute_result"
    }
   ],
   "source": [
    "data.shape"
   ]
  },
  {
   "cell_type": "code",
   "execution_count": 32,
   "id": "10f5a4f6",
   "metadata": {},
   "outputs": [
    {
     "data": {
      "text/plain": [
       "torch.Size([1999, 20])"
      ]
     },
     "execution_count": 32,
     "metadata": {},
     "output_type": "execute_result"
    }
   ],
   "source": [
    "coeff_pred.shape"
   ]
  },
  {
   "cell_type": "code",
   "execution_count": null,
   "id": "5f685cc1",
   "metadata": {},
   "outputs": [],
   "source": []
  }
 ],
 "metadata": {
  "kernelspec": {
   "display_name": "Python 3",
   "language": "python",
   "name": "python3"
  },
  "language_info": {
   "codemirror_mode": {
    "name": "ipython",
    "version": 3
   },
   "file_extension": ".py",
   "mimetype": "text/x-python",
   "name": "python",
   "nbconvert_exporter": "python",
   "pygments_lexer": "ipython3",
   "version": "3.9.6"
  }
 },
 "nbformat": 4,
 "nbformat_minor": 5
}
