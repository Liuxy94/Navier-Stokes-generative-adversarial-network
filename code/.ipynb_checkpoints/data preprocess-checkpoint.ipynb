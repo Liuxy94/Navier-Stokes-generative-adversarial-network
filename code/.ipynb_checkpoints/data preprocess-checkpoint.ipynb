{
 "cells": [
  {
   "cell_type": "code",
   "execution_count": 15,
   "id": "ca6ff3a5",
   "metadata": {},
   "outputs": [],
   "source": [
    "import torch\n",
    "import numpy as np\n",
    "from datetime import datetime"
   ]
  },
  {
   "cell_type": "markdown",
   "id": "0ebd30fb",
   "metadata": {},
   "source": [
    "## Load data"
   ]
  },
  {
   "cell_type": "code",
   "execution_count": 20,
   "id": "7c593901",
   "metadata": {},
   "outputs": [
    {
     "name": "stdout",
     "output_type": "stream",
     "text": [
      "loading velocity data\n",
      "Duration: 0:00:43.384693\n",
      "loading pressure data\n",
      "Duration: 0:00:20.446308\n"
     ]
    }
   ],
   "source": [
    "print('loading velocity data')\n",
    "start_time = datetime.now()\n",
    "velocity_data = np.genfromtxt('./data/snapshots_on_grid_Velocity_1.csv', delimiter=',')\n",
    "end_time = datetime.now()\n",
    "print('Duration: {}'.format(end_time - start_time))\n",
    "print('loading pressure data')\n",
    "start_time = datetime.now()\n",
    "pressure_data = np.genfromtxt('./data/snapshots_on_grid_Pressure_1.csv', delimiter=',')\n",
    "end_time = datetime.now()\n",
    "print('Duration: {}'.format(end_time - start_time))"
   ]
  },
  {
   "cell_type": "markdown",
   "id": "56cbec0f",
   "metadata": {},
   "source": [
    "## POD approach"
   ]
  },
  {
   "cell_type": "code",
   "execution_count": 43,
   "id": "a2446fc2",
   "metadata": {},
   "outputs": [],
   "source": [
    "def POD(snapshots_matrix, nPOD, nDim):\n",
    "    singular_values = []\n",
    "    nx = 221\n",
    "    ny = 42\n",
    "    nz = 1\n",
    "    nrows, ncols = snapshots_matrix.shape\n",
    "    if nrows > ncols:\n",
    "        SSmatrix = np.dot(snapshots_matrix.T, snapshots_matrix)\n",
    "    else:\n",
    "        SSmatrix = np.dot(snapshots_matrix, snapshots_matrix.T)\n",
    "        print('WARNING - CHECK HOW THE BASIS FUNCTIONS ARE CALCULATED WITH THIS METHOD')\n",
    "    print('SSmatrix', SSmatrix.shape)\n",
    "    #print('SSmatrix', SSmatrix)\n",
    "    eigvalues, v = np.linalg.eigh(SSmatrix)\n",
    "    eigvalues =  eigvalues[::-1]\n",
    "    # get rid of small negative eigenvalues\n",
    "    eigvalues[eigvalues<0] = 0\n",
    "    s_values = np.sqrt(eigvalues)\n",
    "\n",
    "    singular_values.append(s_values)\n",
    "\n",
    "    cumulative_info = np.zeros(len(eigvalues))\n",
    "    for j in range(len(eigvalues)):\n",
    "        if j==0:\n",
    "            cumulative_info[j] = eigvalues[j]\n",
    "        else: \n",
    "            cumulative_info[j] = cumulative_info[j-1] + eigvalues[j]\n",
    "\n",
    "    cumulative_info = cumulative_info / cumulative_info[-1]\n",
    "    nAll = len(eigvalues)\n",
    "    basis_functions = np.zeros((nx*ny*nz*nDim,nPOD))\n",
    "    print (\"retaining\", nPOD, \"basis functions of a possible\", len(eigvalues))\n",
    "    for j in reversed(range(nAll-nPOD,nAll)):\n",
    "        Av = np.dot(snapshots_matrix,v[:,j])\n",
    "        basis_functions[:,nAll-j-1] = Av/np.linalg.norm(Av)\n",
    "    return basis_functions"
   ]
  },
  {
   "cell_type": "markdown",
   "id": "8ad459ed",
   "metadata": {},
   "source": [
    "## Save basis functions"
   ]
  },
  {
   "cell_type": "code",
   "execution_count": 44,
   "id": "02aad259",
   "metadata": {},
   "outputs": [
    {
     "name": "stdout",
     "output_type": "stream",
     "text": [
      "SSmatrix (2000, 2000)\n",
      "retaining 10 basis functions of a possible 2000\n"
     ]
    }
   ],
   "source": [
    "velocity_basis = POD(snapshots_matrix=velocity_data, nPOD=10, nDim=2)\n",
    "np.savetxt('./data/Velocity_basis.csv', velocity_basis, delimiter=',')"
   ]
  },
  {
   "cell_type": "code",
   "execution_count": 47,
   "id": "617fdec2",
   "metadata": {},
   "outputs": [
    {
     "name": "stdout",
     "output_type": "stream",
     "text": [
      "SSmatrix (2000, 2000)\n",
      "retaining 10 basis functions of a possible 2000\n"
     ]
    }
   ],
   "source": [
    "pressure_basis = POD(snapshots_matrix=pressure_data, nPOD=10, nDim=1)\n",
    "np.savetxt('./data/Pressure_basis.csv', pressure_basis, delimiter=',')"
   ]
  }
 ],
 "metadata": {
  "kernelspec": {
   "display_name": "Python 3",
   "language": "python",
   "name": "python3"
  },
  "language_info": {
   "codemirror_mode": {
    "name": "ipython",
    "version": 3
   },
   "file_extension": ".py",
   "mimetype": "text/x-python",
   "name": "python",
   "nbconvert_exporter": "python",
   "pygments_lexer": "ipython3",
   "version": "3.9.6"
  }
 },
 "nbformat": 4,
 "nbformat_minor": 5
}
