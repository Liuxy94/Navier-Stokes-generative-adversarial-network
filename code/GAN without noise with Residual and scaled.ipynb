{
 "cells": [
  {
   "cell_type": "code",
   "execution_count": 18,
   "id": "fdb2bb09",
   "metadata": {},
   "outputs": [],
   "source": [
    "import torch,copy,argparse,csv\n",
    "from torch.autograd import Variable\n",
    "import matplotlib.pyplot as plt\n",
    "from sklearn.model_selection import train_test_split\n",
    "from sklearn.preprocessing import MinMaxScaler\n",
    "import numpy as np\n",
    "import pandas as pd\n",
    "import torch.nn as nn\n",
    "import torch.nn.functional as F\n",
    "import torch.utils.data as Data"
   ]
  },
  {
   "cell_type": "markdown",
   "id": "4c9ee220",
   "metadata": {},
   "source": [
    "## Load data"
   ]
  },
  {
   "cell_type": "code",
   "execution_count": 19,
   "id": "09df5500",
   "metadata": {},
   "outputs": [],
   "source": [
    "velocity_coeff = np.genfromtxt('./data/POD_coeffs_3900_new_grid_221_42_Velocity_1.csv', delimiter=',')\n",
    "pressure_coeff = np.genfromtxt('./data/POD_coeffs_3900_new_grid_221_42_Pressure_1.csv', delimiter=',')"
   ]
  },
  {
   "cell_type": "code",
   "execution_count": 20,
   "id": "0f442139",
   "metadata": {},
   "outputs": [],
   "source": [
    "coeff_all = torch.from_numpy(np.append(velocity_coeff,pressure_coeff,axis=0)).type(torch.FloatTensor)\n",
    "scaler = MinMaxScaler()\n",
    "scaler.fit(coeff_all.T)\n",
    "coeff_all_scaled = torch.from_numpy(scaler.transform(coeff_all.T)).type(torch.FloatTensor)\n",
    "data = copy.deepcopy(coeff_all_scaled[:-1,:])\n",
    "label = copy.deepcopy(coeff_all_scaled[1:,:])"
   ]
  },
  {
   "cell_type": "code",
   "execution_count": 21,
   "id": "f1e2f6b7",
   "metadata": {},
   "outputs": [],
   "source": [
    "x_train, x_test, y_train, y_test = train_test_split(data,label, test_size=0.3 , random_state=2)"
   ]
  },
  {
   "cell_type": "code",
   "execution_count": 22,
   "id": "c8c09c93",
   "metadata": {},
   "outputs": [],
   "source": [
    "def norm_inverse(data_scaled, scaler):\n",
    "    data = (data_scaled - torch.tensor(scaler.min_).type(torch.FloatTensor))/torch.tensor(scaler.scale_).type(torch.FloatTensor)\n",
    "    return data"
   ]
  },
  {
   "cell_type": "markdown",
   "id": "1bb3d013",
   "metadata": {},
   "source": [
    "## Compute residuals"
   ]
  },
  {
   "cell_type": "code",
   "execution_count": 23,
   "id": "dde356cf",
   "metadata": {},
   "outputs": [],
   "source": [
    "basis_v = torch.from_numpy(np.genfromtxt('./data/Velocity_basis.csv', delimiter=',')).type(torch.FloatTensor)\n",
    "basis_p = torch.from_numpy(np.genfromtxt('./data/Pressure_basis.csv', delimiter=',')).type(torch.FloatTensor)"
   ]
  },
  {
   "cell_type": "code",
   "execution_count": 24,
   "id": "bdfdb2c5",
   "metadata": {},
   "outputs": [],
   "source": [
    "def backward_p(coeff_p, basis_p):\n",
    "    length, number = coeff_p.shape\n",
    "    nx = 221\n",
    "    ny = 42\n",
    "    grid_p = torch.matmul(basis_p, coeff_p)\n",
    "    return grid_p.reshape(nx,ny,number)"
   ]
  },
  {
   "cell_type": "code",
   "execution_count": 25,
   "id": "e47773e9",
   "metadata": {},
   "outputs": [],
   "source": [
    "def backward_v(coeff_v, basis_v):\n",
    "    length, number = coeff_v.shape\n",
    "    nx = 221\n",
    "    ny = 42\n",
    "    grid_v = torch.matmul(basis_v, coeff_v)\n",
    "    grid_v1 = grid_v[0:nx*ny].reshape(nx,ny,number)\n",
    "    grid_v2 = grid_v[nx*ny:].reshape(nx,ny,number)\n",
    "    return grid_v1, grid_v2"
   ]
  },
  {
   "cell_type": "code",
   "execution_count": 26,
   "id": "52f9839c",
   "metadata": {},
   "outputs": [],
   "source": [
    "def backward(coeff, basis_v, basis_p):\n",
    "    nPOD = 10\n",
    "    coeff_v = coeff[:nPOD,:]\n",
    "    coeff_p = coeff[nPOD:,:]\n",
    "    v1, v2 = backward_v(coeff_v, basis_v)\n",
    "    p = backward_p(coeff_p, basis_p)\n",
    "    return v1, v2, p"
   ]
  },
  {
   "cell_type": "code",
   "execution_count": 27,
   "id": "8fc63b0d",
   "metadata": {},
   "outputs": [],
   "source": [
    "def compute_resids(coeff_scaled, coeff_pred_scaled, basis_v, basis_p, scaler):\n",
    "#     coeff = scaler.inverse_transform(coeff_scaled)\n",
    "    coeff =  norm_inverse(coeff_scaled, scaler)\n",
    "    coeff_pred = norm_inverse(coeff_pred_scaled, scaler)\n",
    "    u1_o1d, u2_o1d, p = backward(coeff.T, basis_v, basis_p)\n",
    "    u1, u2, p = backward(coeff_pred.T, basis_v, basis_p)\n",
    "    nx, ny = 221,42\n",
    "    dx, dy = 0.01, 0.01\n",
    "    dt = 1.\n",
    "    sigma = 0.\n",
    "    rho = 1.\n",
    "    mu = 1./300\n",
    "    # first order term of u1\n",
    "    u1x = (u1[2:,1:-1] - u1[:-2,1:-1])/(2.0*dx)\n",
    "    u1y = (u1[1:-1,2:] - u1[1:-1,:-2])/(2.0*dy)\n",
    "#     u1t = (u1_new[1:-1, 1:-1] - u1 [1:-1, 1:-1] )/dt \n",
    "    u1t = (u1[1:-1, 1:-1] - u1_o1d[1:-1, 1:-1])/dt \n",
    "    # second order term of u1 \n",
    "    u1xx = (u1[2:,1:-1] - 2. *u1[1:-1, 1:-1] + u1[0: -2, 1:-1])/(dx**2) \n",
    "    u1yy = (u1[1:-1,2:] - 2. *u1[1:-1, 1:-1] + u1[1:-1, 0:-2])/(dy**2) \n",
    "    # first order term of u2\n",
    "    u2x = (u2[2:,1:-1] - u2[0:-2, 1:-1])/(2.0*dx) \n",
    "    u2y = (u2[1:-1, 2: ] - u2 [1:-1, 0:-2])/(2.0*dy) \n",
    "#     u2t = (u2_new[1:-1, 1:-1] - u2 [1:-1, 1:-1] )/dt \n",
    "    u2t = (u2[1:-1, 1:-1] - u2_o1d[1:-1, 1:-1] )/dt \n",
    "    # second order term of u2 \n",
    "    u2xx = (u2[2:,1:-1] - 2.*u2[1:-1, 1:-1] + u2[0:-2, 1:-1])/(dx**2) \n",
    "    u2yy = (u2[1:-1,2:] - 2.*u2[1:-1, 1:-1] + u2[1:-1, 0:-2])/(dy**2) \n",
    "    # first order of p \n",
    "    px = (p[2:,1:-1] - p[0:-2,1:-1])/(2.* dx)\n",
    "    py = (p[1:-1,2:] - p[1:-1,0:-2])/(2.* dy)\n",
    "    r_cty = u1x + u2y \n",
    "    r_u1 = rho*u1t + sigma*u1 [1:-1, 1:-1]+ rho* (u1 [1:-1, 1:-1] *u1x+u2 [1:-1, 1:-1] *u1y) - mu* (u1xx+u1yy) + px\n",
    "    r_u2 = rho*u2t + sigma*u2 [1: -1, 1: -1]+ rho* (u1 [1:-1, 1:-1] *u2x+u2 [1:-1, 1:-1] *u2y) - mu* (u2xx+u2yy) + py\n",
    "    return r_cty, r_u1, r_u2"
   ]
  },
  {
   "cell_type": "markdown",
   "id": "20171daf",
   "metadata": {},
   "source": [
    "## Build model"
   ]
  },
  {
   "cell_type": "code",
   "execution_count": 28,
   "id": "dae7ea0b",
   "metadata": {},
   "outputs": [],
   "source": [
    "## ========================模型验证======================\n",
    "def valid(model,data,criterion):\n",
    "    model.eval()\n",
    "#     z = torch.from_numpy(np.random.randn(data.shape[0], 10)).float() # 随机噪声\n",
    "    with torch.no_grad():   # 不记录梯度信息\n",
    "        y_pred = model(data)\n",
    "        loss = criterion(y_pred, y_test)\n",
    "        loss_val.append(loss.item())\n",
    "        print('val MSE loss:',loss.item())"
   ]
  },
  {
   "cell_type": "code",
   "execution_count": 29,
   "id": "54555956",
   "metadata": {},
   "outputs": [],
   "source": [
    "# 网络G，用于预测下一时刻的特征向量\n",
    "G = torch.nn.Sequential(\n",
    "    torch.nn.Linear(20,30),   # 特征向量\n",
    "    torch.nn.ReLU(),   \n",
    "    torch.nn.Linear(30,15), \n",
    "    torch.nn.ReLU(),   \n",
    "    torch.nn.Linear(15,20),   \n",
    ")\n",
    "# 网络D，用于一组特征向量是网络G制造的还是真实标签，促使G的输出接近于真实标签\n",
    "D = torch.nn.Sequential(\n",
    "    torch.nn.Linear(20,10),   \n",
    "    torch.nn.ReLU(),   \n",
    "    torch.nn.Linear(10,5), \n",
    "    torch.nn.ReLU(),   \n",
    "    torch.nn.Linear(5,1),\n",
    "    nn.Sigmoid()   \n",
    ")"
   ]
  },
  {
   "cell_type": "code",
   "execution_count": 30,
   "id": "299e0d83",
   "metadata": {},
   "outputs": [],
   "source": [
    "loss_func_bce = nn.BCELoss()    # 用于鉴别器模型D（对抗损失），D的任务判断是否为标签，属于二分类任务，因此用交叉熵损失\n",
    "loss_func_reg = nn.MSELoss()    # 用于生成器G，计算模型预测和标签的差异，因为是回归任务所以用均方根损失\n",
    "opt_g = torch.optim.Adam(G.parameters(), lr=3e-4)   \n",
    "opt_d = torch.optim.Adam(D.parameters(), lr=1e-4)"
   ]
  },
  {
   "cell_type": "code",
   "execution_count": 31,
   "id": "d9073166",
   "metadata": {},
   "outputs": [],
   "source": [
    "loss_train = []\n",
    "loss_val = []"
   ]
  },
  {
   "cell_type": "markdown",
   "id": "aa147d7f",
   "metadata": {},
   "source": [
    "## Training"
   ]
  },
  {
   "cell_type": "code",
   "execution_count": 34,
   "id": "7c86370b",
   "metadata": {},
   "outputs": [],
   "source": [
    "dataset_train = Data.TensorDataset(x_train , y_train)\n",
    "loader = Data.DataLoader(\n",
    "    dataset = dataset_train,\n",
    "    batch_size = 60,\n",
    "    shuffle=True,\n",
    "    num_workers = 8\n",
    ")\n",
    "epochs = 2\n",
    "lambda_res = 0.01"
   ]
  },
  {
   "cell_type": "code",
   "execution_count": null,
   "id": "1474bc7b",
   "metadata": {},
   "outputs": [
    {
     "name": "stdout",
     "output_type": "stream",
     "text": [
      "epoch: 0\n",
      "val MSE loss: 0.3239734172821045\n",
      "val MSE loss: 0.3234139382839203\n",
      "val MSE loss: 0.32285434007644653\n",
      "train D loss: 1.3912076950073242 G loss: 160.06622314453125\n",
      "val MSE loss: 0.32226821780204773\n",
      "val MSE loss: 0.3216705620288849\n",
      "val MSE loss: 0.3210647702217102\n",
      "train D loss: 1.3912297487258911 G loss: 157.98023986816406\n",
      "val MSE loss: 0.3204832673072815\n",
      "val MSE loss: 0.31991642713546753\n",
      "val MSE loss: 0.3193592131137848\n",
      "train D loss: 1.390498161315918 G loss: 157.17709350585938\n",
      "val MSE loss: 0.3187994062900543\n",
      "val MSE loss: 0.31823670864105225\n",
      "val MSE loss: 0.31766942143440247\n",
      "train D loss: 1.391418695449829 G loss: 153.7888641357422\n",
      "val MSE loss: 0.31708016991615295\n",
      "val MSE loss: 0.3164730370044708\n",
      "val MSE loss: 0.3158509433269501\n",
      "train D loss: 1.3913955688476562 G loss: 151.24876403808594\n",
      "val MSE loss: 0.3152041733264923\n",
      "val MSE loss: 0.3145374059677124\n",
      "val MSE loss: 0.3138540983200073\n",
      "train D loss: 1.3901796340942383 G loss: 152.6502685546875\n",
      "val MSE loss: 0.3131769299507141\n",
      "val MSE loss: 0.31250324845314026\n",
      "val MSE loss: 0.3118304908275604\n",
      "train D loss: 1.3915804624557495 G loss: 151.93057250976562\n",
      "val MSE loss: 0.3111678957939148\n",
      "val MSE loss: 0.31051185727119446\n",
      "val MSE loss: 0.3098599910736084\n",
      "train D loss: 1.3889174461364746 G loss: 161.15509033203125\n",
      "val MSE loss: 0.3092099130153656\n",
      "val MSE loss: 0.30855801701545715\n",
      "val MSE loss: 0.3079032897949219\n",
      "train D loss: 1.3907886743545532 G loss: 152.34844970703125\n",
      "val MSE loss: 0.30724790692329407\n",
      "val MSE loss: 0.30658894777297974\n",
      "val MSE loss: 0.30592507123947144\n",
      "train D loss: 1.3898919820785522 G loss: 149.91969299316406\n",
      "val MSE loss: 0.30524948239326477\n",
      "val MSE loss: 0.30456188321113586\n",
      "val MSE loss: 0.30386239290237427\n",
      "train D loss: 1.3892741203308105 G loss: 151.65724182128906\n",
      "val MSE loss: 0.30314937233924866\n",
      "val MSE loss: 0.30242276191711426\n",
      "val MSE loss: 0.30168238282203674\n",
      "train D loss: 1.389188289642334 G loss: 149.72695922851562\n",
      "val MSE loss: 0.3009380102157593\n",
      "val MSE loss: 0.3001898229122162\n",
      "val MSE loss: 0.2994353473186493\n",
      "train D loss: 1.3895554542541504 G loss: 149.28436279296875\n",
      "val MSE loss: 0.29867881536483765\n",
      "val MSE loss: 0.2979190945625305\n",
      "val MSE loss: 0.29715558886528015\n",
      "train D loss: 1.3904342651367188 G loss: 137.61671447753906\n",
      "val MSE loss: 0.2963624894618988\n",
      "val MSE loss: 0.2955426573753357\n",
      "val MSE loss: 0.29469841718673706\n",
      "train D loss: 1.3913825750350952 G loss: 131.24362182617188\n",
      "val MSE loss: 0.29381778836250305\n",
      "val MSE loss: 0.29290467500686646\n",
      "val MSE loss: 0.29196253418922424\n",
      "train D loss: 1.390810251235962 G loss: 132.79495239257812\n",
      "val MSE loss: 0.2909972369670868\n",
      "val MSE loss: 0.29001307487487793\n",
      "val MSE loss: 0.2890140414237976\n",
      "train D loss: 1.3896639347076416 G loss: 140.18910217285156\n",
      "val MSE loss: 0.2880171835422516\n",
      "val MSE loss: 0.28702157735824585\n",
      "val MSE loss: 0.28602635860443115\n",
      "train D loss: 1.390581488609314 G loss: 137.1466064453125\n",
      "val MSE loss: 0.2850476801395416\n",
      "val MSE loss: 0.28408366441726685\n",
      "val MSE loss: 0.28313156962394714\n",
      "train D loss: 1.3899753093719482 G loss: 130.20751953125\n",
      "val MSE loss: 0.28216075897216797\n",
      "val MSE loss: 0.2811729609966278\n",
      "val MSE loss: 0.28016960620880127\n",
      "train D loss: 1.3913484811782837 G loss: 122.66178894042969\n",
      "val MSE loss: 0.2792014479637146\n",
      "val MSE loss: 0.27826353907585144\n",
      "val MSE loss: 0.2773515284061432\n",
      "train D loss: 1.3907480239868164 G loss: 128.3687744140625\n",
      "val MSE loss: 0.2764284610748291\n",
      "val MSE loss: 0.27549442648887634\n",
      "val MSE loss: 0.27454930543899536\n",
      "train D loss: 1.3907121419906616 G loss: 127.7642593383789\n",
      "val MSE loss: 0.2735920548439026\n",
      "val MSE loss: 0.2726232409477234\n",
      "val MSE loss: 0.2716432809829712\n",
      "train D loss: 1.39129638671875 G loss: 120.13980102539062\n",
      "val MSE loss: 0.27063509821891785\n",
      "val MSE loss: 0.2696011960506439\n",
      "val MSE loss: 0.2685445249080658\n",
      "train D loss: 1.3929940462112427 G loss: 61.04213333129883\n",
      "epoch: 1\n",
      "val MSE loss: 0.2674737870693207\n",
      "val MSE loss: 0.2663925290107727\n",
      "val MSE loss: 0.2653038203716278\n",
      "train D loss: 1.3893898725509644 G loss: 121.59278106689453\n",
      "val MSE loss: 0.2641884684562683\n",
      "val MSE loss: 0.2630513906478882\n",
      "val MSE loss: 0.2618976831436157\n",
      "train D loss: 1.3910024166107178 G loss: 107.49523162841797\n",
      "val MSE loss: 0.26076266169548035\n",
      "val MSE loss: 0.25964608788490295\n",
      "val MSE loss: 0.2585490047931671\n",
      "train D loss: 1.3907289505004883 G loss: 112.51121520996094\n"
     ]
    }
   ],
   "source": [
    "for epoch in range(epochs):\n",
    "    print('epoch:',epoch)\n",
    "    for step , (batch_x,batch_y) in enumerate(loader):\n",
    "        # 训练判别器D，目的是能够区分G的输出和真实标签\n",
    "        for d in range(1):\n",
    "            D.train()\n",
    "            G.eval()\n",
    "            # 前向传播\n",
    "            d_real = D(batch_y)     #  （标签）输入判别器的结果\n",
    "            batch_y_pred = G(batch_x)      #  （噪声+x）输入生成器，得到预测结果\n",
    "            d_gen = D(batch_y_pred)        #  （预测结果）输入判别器的结果\n",
    "            # 计算损失\n",
    "            Dloss_real = loss_func_bce(d_real, torch.ones((batch_x.shape[0],1))) # 对于（标签+x）组，判别器输出应趋向于全1\n",
    "            Dloss_gen = loss_func_bce(d_gen, torch.zeros((batch_x.shape[0],1)))  # 对于（预测结果+x）组，判别器输出应趋向于全0\n",
    "            Dloss = Dloss_real + Dloss_gen\n",
    "            # 反向传播（只对判别器参数进行更新）\n",
    "            Dloss.backward()\n",
    "            opt_d.step()\n",
    "            opt_d.zero_grad()\n",
    "            opt_g.zero_grad()\n",
    "        # 训练生成器G，目的是G的输出能够欺骗D，让D以为G的输出就是真实标签\n",
    "        for g in range(3):\n",
    "            D.eval()\n",
    "            G.train()\n",
    "            # 前向传播\n",
    "            batch_y_pred = G(batch_x)\n",
    "            d_gen = D(batch_y_pred)  \n",
    "            # 计算损失函数\n",
    "            Gloss_adventure = 0.3 * loss_func_bce(d_gen, torch.ones((batch_x.shape[0],1)))   # G的目的是，让D以为它的输出就是真实标签，因此G趋向于让d_gen等于1\n",
    "            Gloss_regression = loss_func_reg(batch_y_pred,batch_y)\n",
    "            r_cty_pred, r_u1_pred, r_u2_pred = compute_resids(batch_x, batch_y_pred, basis_v, basis_p, scaler)\n",
    "            r_cty, r_u1, r_u2 = compute_resids(batch_x, batch_y, basis_v, basis_p, scaler)\n",
    "#             r_cty, r_u1, r_u2 = compute_resids(batch_y, batch_y_pred, basis_v, basis_p, scaler)\n",
    "            Gloss_res = torch.norm(r_cty_pred-r_cty)+torch.norm(r_u1_pred-r_u1)+torch.norm(r_u2_pred-r_u2)\n",
    "            Gloss = Gloss_regression + Gloss_adventure + lambda_res*Gloss_res\n",
    "            # 反向传播\n",
    "            Gloss.backward()\n",
    "            opt_g.step()\n",
    "            opt_g.zero_grad()\n",
    "            opt_d.zero_grad()\n",
    "            loss_train.append(Gloss_regression.item())\n",
    "            valid(G,x_test,loss_func_reg)\n",
    "        D.eval()\n",
    "        G.eval()\n",
    "        print('train D loss:', Dloss.detach().item(), 'G loss:', Gloss.detach().item())"
   ]
  },
  {
   "cell_type": "code",
   "execution_count": 17,
   "id": "ce2b730f",
   "metadata": {},
   "outputs": [
    {
     "name": "stdout",
     "output_type": "stream",
     "text": [
      "MSE loss for val set： 10.134639739990234\n"
     ]
    },
    {
     "data": {
      "image/png": "[encoded data removed]",
      "text/plain": [
       "<Figure size 640x480 with 1 Axes>"
      ]
     },
     "metadata": {},
     "output_type": "display_data"
    }
   ],
   "source": [
    "n_iter = 3*epochs*(x_train.shape[0]//batch_size + 1)\n",
    "x = [i for i in range(n_iter)]    # 每一轮G都训练了3次，所以乘3\n",
    "plt.plot(x,loss_train, label='train')\n",
    "plt.plot(x,loss_val, label='val')\n",
    "plt.title('GAN_with_noise')\n",
    "plt.legend()\n",
    "plt.savefig(fname=\"results/GAN_with_noise.png\")\n",
    "np.save('results/GAN_with_noise.npy',loss_train)   # 保存为npy文件,供不同方法对比\n",
    "print('GAN_with_noise——测试集均方误差：',loss_val[-1])\n",
    "plt.show()"
   ]
  },
  {
   "cell_type": "code",
   "execution_count": 129,
   "id": "a608e94e",
   "metadata": {},
   "outputs": [],
   "source": [
    "G.eval()\n",
    "z = torch.from_numpy(np.random.randn(data.shape[0], 10)).float() # 随机噪声\n",
    "coeff_pred = G(torch.cat([z, data], dim=1))\n",
    "np.savetxt('./results/prediction_res_GAN_no_noise_scaled.csv', coeff_pred.detach().numpy(), delimiter=',')"
   ]
  }
 ],
 "metadata": {
  "kernelspec": {
   "display_name": "Python 3",
   "language": "python",
   "name": "python3"
  },
  "language_info": {
   "codemirror_mode": {
    "name": "ipython",
    "version": 3
   },
   "file_extension": ".py",
   "mimetype": "text/x-python",
   "name": "python",
   "nbconvert_exporter": "python",
   "pygments_lexer": "ipython3",
   "version": "3.9.6"
  }
 },
 "nbformat": 4,
 "nbformat_minor": 5
}
